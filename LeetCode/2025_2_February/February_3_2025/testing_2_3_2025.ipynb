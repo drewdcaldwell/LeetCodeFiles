{
 "cells": [
  {
   "cell_type": "markdown",
   "metadata": {},
   "source": [
    "Final Submission"
   ]
  },
  {
   "cell_type": "code",
   "execution_count": 53,
   "metadata": {},
   "outputs": [],
   "source": [
    "class Solution(object):\n",
    "    def longestMonotonicSubarray(nums):\n",
    "    count = 0\n",
    "    maxi = float('-inf')\n",
    "    mini = float('-inf')\n",
    "    for i in range(len(nums) -1):\n",
    "        if nums[i] < nums[i+1]:\n",
    "            print(cleanOutput(nums[i], nums[i+1]))\n",
    "            count += 1\n",
    "        else: \n",
    "            count = 0\n",
    "        maxi = max(maxi, count)\n",
    "    \n",
    "    count = 0\n",
    "    for j in range(len(nums) - 1):\n",
    "        if nums[j] > nums[j+1]:\n",
    "            print(cleanOutput(nums[j], nums[j+1]))\n",
    "            count += 1\n",
    "        else: \n",
    "            count = 0\n",
    "        mini = max(mini, count)\n",
    "\n",
    "    if len(nums) == 1:\n",
    "        return 1\n",
    "    \n",
    "    return (max(maxi, mini)+1)"
   ]
  },
  {
   "cell_type": "markdown",
   "metadata": {},
   "source": [
    "Testing function"
   ]
  },
  {
   "cell_type": "code",
   "execution_count": 59,
   "metadata": {},
   "outputs": [],
   "source": [
    "def longestMonotonicSubarray(nums):\n",
    "    count = 0\n",
    "    maxi = float('-inf')\n",
    "    mini = float('-inf')\n",
    "    for i in range(len(nums) -1):\n",
    "        if nums[i] < nums[i+1]:\n",
    "            print(cleanOutput(nums[i], nums[i+1]))\n",
    "            count += 1\n",
    "        else: \n",
    "            count = 0\n",
    "        maxi = max(maxi, count)\n",
    "    \n",
    "    count = 0\n",
    "    for j in range(len(nums) - 1):\n",
    "        if nums[j] > nums[j+1]:\n",
    "            print(cleanOutput(nums[j], nums[j+1]))\n",
    "            count += 1\n",
    "        else: \n",
    "            count = 0\n",
    "        mini = max(mini, count)\n",
    "\n",
    "    if len(nums) == 1:\n",
    "        return 1\n",
    "    \n",
    "    return (max(maxi, mini)+1)"
   ]
  },
  {
   "cell_type": "code",
   "execution_count": 35,
   "metadata": {},
   "outputs": [],
   "source": [
    "def cleanOutput(int1,int2):\n",
    "    output = []\n",
    "    output.append(int1)\n",
    "    output.append(int2)\n",
    "    return output"
   ]
  },
  {
   "cell_type": "markdown",
   "metadata": {},
   "source": [
    "Test Case 1"
   ]
  },
  {
   "cell_type": "code",
   "execution_count": 52,
   "metadata": {},
   "outputs": [
    {
     "name": "stdout",
     "output_type": "stream",
     "text": [
      "[1, 4]\n",
      "[4, 3]\n",
      "[3, 2]\n",
      "2\n"
     ]
    }
   ],
   "source": [
    "nums = [1,4,3,3,2]\n",
    "print(longestMonotonicSubarray(nums))"
   ]
  },
  {
   "cell_type": "markdown",
   "metadata": {},
   "source": [
    "Test Case 2"
   ]
  },
  {
   "cell_type": "code",
   "execution_count": 51,
   "metadata": {},
   "outputs": [
    {
     "name": "stdout",
     "output_type": "stream",
     "text": [
      "1\n"
     ]
    }
   ],
   "source": [
    "nums = [3,3,3,3]\n",
    "print(longestMonotonicSubarray(nums))"
   ]
  },
  {
   "cell_type": "markdown",
   "metadata": {},
   "source": [
    "Test Case 3"
   ]
  },
  {
   "cell_type": "code",
   "execution_count": 50,
   "metadata": {},
   "outputs": [
    {
     "name": "stdout",
     "output_type": "stream",
     "text": [
      "[3, 2]\n",
      "[2, 1]\n",
      "3\n"
     ]
    }
   ],
   "source": [
    "nums = [3,2,1]\n",
    "print(longestMonotonicSubarray(nums))"
   ]
  },
  {
   "cell_type": "code",
   "execution_count": 60,
   "metadata": {},
   "outputs": [
    {
     "name": "stdout",
     "output_type": "stream",
     "text": [
      "1\n"
     ]
    }
   ],
   "source": [
    "nums = [1]\n",
    "print(longestMonotonicSubarray(nums))"
   ]
  }
 ],
 "metadata": {
  "kernelspec": {
   "display_name": "Python 3",
   "language": "python",
   "name": "python3"
  },
  "language_info": {
   "codemirror_mode": {
    "name": "ipython",
    "version": 3
   },
   "file_extension": ".py",
   "mimetype": "text/x-python",
   "name": "python",
   "nbconvert_exporter": "python",
   "pygments_lexer": "ipython3",
   "version": "3.6.7rc2"
  }
 },
 "nbformat": 4,
 "nbformat_minor": 2
}
